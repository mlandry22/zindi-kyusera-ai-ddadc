{
 "cells": [
  {
   "cell_type": "code",
   "execution_count": 1,
   "id": "3dceffbd",
   "metadata": {},
   "outputs": [],
   "source": [
    "import requests\n",
    "import torch\n",
    "from PIL import Image\n",
    "from transformers import AutoProcessor, MllamaForConditionalGeneration, LlavaForConditionalGeneration \n",
    "from huggingface_hub import login\n",
    "import os"
   ]
  },
  {
   "cell_type": "code",
   "execution_count": 2,
   "id": "3b95b429",
   "metadata": {},
   "outputs": [
    {
     "name": "stdout",
     "output_type": "stream",
     "text": [
      "allocated:\n",
      "reserved:\n"
     ]
    },
    {
     "data": {
      "text/plain": [
       "0"
      ]
     },
     "execution_count": 2,
     "metadata": {},
     "output_type": "execute_result"
    }
   ],
   "source": [
    "## memory management\n",
    "os.environ['PYTORCH_CUDA_ALLOC_CONF'] = 'max_split_size_mb:512'\n",
    "\n",
    "if 'model' in locals() or 'model' in globals():\n",
    "    del model\n",
    "torch.cuda.empty_cache()\n",
    "print(\"allocated:\")\n",
    "torch.cuda.memory_allocated()\n",
    "print(\"reserved:\")\n",
    "torch.cuda.memory_reserved()"
   ]
  },
  {
   "cell_type": "code",
   "execution_count": 3,
   "id": "9e80211f",
   "metadata": {},
   "outputs": [],
   "source": [
    "# Read the token from a local file\n",
    "with open(\"/home/mark/keys/hf_key.txt\", \"r\") as f:\n",
    "    hf_token = f.read().strip()\n",
    "\n",
    "# Log in\n",
    "login(hf_token)"
   ]
  },
  {
   "cell_type": "code",
   "execution_count": 4,
   "id": "48b7fc8a",
   "metadata": {},
   "outputs": [],
   "source": [
    "## Set model_id here, to later load model and processor\n",
    "#model_id = 'mistral-community/pixtral-12b'\n",
    "model_id = 'meta-llama/Llama-3.2-11B-Vision-Instruct'\n"
   ]
  },
  {
   "cell_type": "code",
   "execution_count": 6,
   "id": "ab44450c",
   "metadata": {},
   "outputs": [
    {
     "data": {
      "application/vnd.jupyter.widget-view+json": {
       "model_id": "8633ba61fa5048ba9ff1f940a8dc2df6",
       "version_major": 2,
       "version_minor": 0
      },
      "text/plain": [
       "Loading checkpoint shards:   0%|          | 0/5 [00:00<?, ?it/s]"
      ]
     },
     "metadata": {},
     "output_type": "display_data"
    }
   ],
   "source": [
    "if model_id == \"meta-llama/Llama-3.2-11B-Vision-Instruct\":\n",
    "    model = MllamaForConditionalGeneration.from_pretrained(\n",
    "        model_id,\n",
    "        torch_dtype=torch.bfloat16,\n",
    "        #use_cache=False\n",
    "    )\n",
    "    model = model.cuda()\n",
    "    #model.gradient_checkpointing_enable()\n",
    "    processor = AutoProcessor.from_pretrained(model_id)"
   ]
  },
  {
   "cell_type": "code",
   "execution_count": 7,
   "id": "a58cc887",
   "metadata": {},
   "outputs": [],
   "source": [
    "if model_id == \"mistral-community/pixtral-12b\":\n",
    "    processor = AutoProcessor.from_pretrained(model_id)\n",
    "    model = LlavaForConditionalGeneration.from_pretrained(model_id).to(\"cuda\")"
   ]
  },
  {
   "cell_type": "code",
   "execution_count": 8,
   "id": "96be3b10",
   "metadata": {},
   "outputs": [],
   "source": [
    "url = \"https://huggingface.co/datasets/huggingface/documentation-images/resolve/0052a70beed5bf71b92610a43a52df6d286cd5f3/diffusers/rabbit.jpg\"\n",
    "image = Image.open(requests.get(url, stream=True).raw)"
   ]
  },
  {
   "cell_type": "code",
   "execution_count": 10,
   "id": "8d5db1a0",
   "metadata": {},
   "outputs": [],
   "source": [
    "image = Image.open('test_images/test_jpgs/pre/malawi-cyclone_00000000_pre_disaster.jpg')"
   ]
  },
  {
   "cell_type": "code",
   "execution_count": 13,
   "id": "298cf696",
   "metadata": {},
   "outputs": [
    {
     "name": "stdout",
     "output_type": "stream",
     "text": [
      "There are 8 man-made large buildings in this satellite image. There are 2 large buildings on the left side of the road, 2 more large buildings on the right side of the road, and 4 large buildings in the lower right corner of the image.<|eot_id|>\n"
     ]
    }
   ],
   "source": [
    "messages = [\n",
    "    {\"role\": \"user\", \"content\": [\n",
    "        {\"type\": \"image\"},\n",
    "        {\"type\": \"text\", \"text\": \"How many man-made large buildings are in this satellite image? Do not count cars, sheds, or similarly small buildings.\"}\n",
    "    ]}\n",
    "]\n",
    "\n",
    "input_text = processor.apply_chat_template(\n",
    "    messages, add_generation_prompt=True,\n",
    ")\n",
    "inputs = processor(\n",
    "    image,\n",
    "    input_text,\n",
    "    add_special_tokens=False,\n",
    "    return_tensors=\"pt\",\n",
    ").to(model.device)\n",
    "output = model.generate(**inputs, max_new_tokens=70)\n",
    "\n",
    "print(processor.decode(output[0][inputs[\"input_ids\"].shape[-1]:]))"
   ]
  },
  {
   "cell_type": "code",
   "execution_count": null,
   "id": "b2094067",
   "metadata": {},
   "outputs": [],
   "source": []
  }
 ],
 "metadata": {
  "kernelspec": {
   "display_name": "Python 3 (ipykernel)",
   "language": "python",
   "name": "python3"
  },
  "language_info": {
   "codemirror_mode": {
    "name": "ipython",
    "version": 3
   },
   "file_extension": ".py",
   "mimetype": "text/x-python",
   "name": "python",
   "nbconvert_exporter": "python",
   "pygments_lexer": "ipython3",
   "version": "3.10.12"
  }
 },
 "nbformat": 4,
 "nbformat_minor": 5
}
