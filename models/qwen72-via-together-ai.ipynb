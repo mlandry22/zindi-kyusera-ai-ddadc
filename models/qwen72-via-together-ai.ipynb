{
 "cells": [
  {
   "cell_type": "code",
   "execution_count": 1,
   "id": "eb98b3d5",
   "metadata": {},
   "outputs": [],
   "source": [
    "import os\n",
    "import base64\n",
    "from together import Together"
   ]
  },
  {
   "cell_type": "code",
   "execution_count": 2,
   "id": "41bf0dc0",
   "metadata": {},
   "outputs": [],
   "source": [
    "os.environ['TOGETHER_API_KEY'] = '515cc7381d0e30610889abd6ab740e3657ab200a2e9f3e43512dcb46cc777f11'"
   ]
  },
  {
   "cell_type": "code",
   "execution_count": 3,
   "id": "d32c6c3c",
   "metadata": {},
   "outputs": [],
   "source": [
    "client = Together()"
   ]
  },
  {
   "cell_type": "code",
   "execution_count": 4,
   "id": "c0c97fbb",
   "metadata": {},
   "outputs": [],
   "source": [
    "def encode_image(image_path):\n",
    "        with open(image_path, \"rb\") as image_file:\n",
    "            return base64.b64encode(image_file.read()).decode('utf-8')"
   ]
  },
  {
   "cell_type": "code",
   "execution_count": 5,
   "id": "cf0e3223",
   "metadata": {},
   "outputs": [],
   "source": [
    "imagePath= \"test_images/test_jpgs/pre_4/malawi-cyclone_00000000_pre_disaster.jpg\""
   ]
  },
  {
   "cell_type": "code",
   "execution_count": 6,
   "id": "a26d38f3",
   "metadata": {},
   "outputs": [],
   "source": [
    "base64_image = encode_image(imagePath)"
   ]
  },
  {
   "cell_type": "code",
   "execution_count": 7,
   "id": "ab76042e",
   "metadata": {},
   "outputs": [],
   "source": [
    "det_prompt = \"How many man-made large buildings are in this satellite image? Do not count cars, sheds, or similarly small buildings. Please provide only the number, not an explanation or any other text.\""
   ]
  },
  {
   "cell_type": "code",
   "execution_count": 9,
   "id": "9337c8fd",
   "metadata": {},
   "outputs": [],
   "source": [
    "response = client.chat.completions.create(\n",
    "    model=\"Qwen/Qwen2-VL-72B-Instruct\",\n",
    "    messages=[\n",
    "        {\n",
    "            \"role\": \"user\",\n",
    "            \"content\": [\n",
    "                {\"type\": \"text\", \"text\": det_prompt},\n",
    "                {\n",
    "                    \"type\": \"image_url\",\n",
    "                    \"image_url\": {\n",
    "                        \"url\": f\"data:image/jpeg;base64,{base64_image}\"\n",
    "                    },\n",
    "                },\n",
    "            ],\n",
    "        }\n",
    "    ],\n",
    "    stream=False,\n",
    ")"
   ]
  },
  {
   "cell_type": "code",
   "execution_count": 10,
   "id": "e105e66f",
   "metadata": {},
   "outputs": [
    {
     "name": "stdout",
     "output_type": "stream",
     "text": [
      "10\n"
     ]
    }
   ],
   "source": [
    "print(response.choices[0].message.content)"
   ]
  }
 ],
 "metadata": {
  "kernelspec": {
   "display_name": "Python 3 (ipykernel)",
   "language": "python",
   "name": "python3"
  },
  "language_info": {
   "codemirror_mode": {
    "name": "ipython",
    "version": 3
   },
   "file_extension": ".py",
   "mimetype": "text/x-python",
   "name": "python",
   "nbconvert_exporter": "python",
   "pygments_lexer": "ipython3",
   "version": "3.10.12"
  }
 },
 "nbformat": 4,
 "nbformat_minor": 5
}
