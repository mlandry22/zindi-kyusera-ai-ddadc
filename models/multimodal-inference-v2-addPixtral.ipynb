{
 "cells": [
  {
   "cell_type": "code",
   "execution_count": 1,
   "id": "3dceffbd",
   "metadata": {},
   "outputs": [],
   "source": [
    "import os, re\n",
    "import base64\n",
    "import requests\n",
    "from mistralai import Mistral"
   ]
  },
  {
   "cell_type": "code",
   "execution_count": 2,
   "id": "4ece6cef",
   "metadata": {},
   "outputs": [],
   "source": [
    "api_key = open(\"../keys/MISTRAL_API_KEY.txt\", \"r\").read().strip(\"\\n\")\n",
    "os.environ['MISTRAL_API_KEY'] = api_key"
   ]
  },
  {
   "cell_type": "code",
   "execution_count": 3,
   "id": "a4c24e43",
   "metadata": {},
   "outputs": [],
   "source": [
    "# Retrieve the API key from environment variables\n",
    "api_key = os.environ[\"MISTRAL_API_KEY\"]\n",
    "\n",
    "# Specify model\n",
    "model = \"pixtral-12b-2409\"\n",
    "\n",
    "# Initialize the Mistral client\n",
    "client = Mistral(api_key=api_key)"
   ]
  },
  {
   "cell_type": "code",
   "execution_count": 4,
   "id": "b379dbaa",
   "metadata": {},
   "outputs": [],
   "source": [
    "def encode_image(image_path):\n",
    "    \"\"\"Encode the image to base64.\"\"\"\n",
    "    try:\n",
    "        with open(image_path, \"rb\") as image_file:\n",
    "            return base64.b64encode(image_file.read()).decode('utf-8')\n",
    "    except FileNotFoundError:\n",
    "        print(f\"Error: The file {image_path} was not found.\")\n",
    "        return None\n",
    "    except Exception as e:  # Added general exception handling\n",
    "        print(f\"Error: {e}\")\n",
    "        return None"
   ]
  },
  {
   "cell_type": "code",
   "execution_count": 5,
   "id": "01cf176f",
   "metadata": {},
   "outputs": [],
   "source": [
    "def extract_number_from_text(text):\n",
    "    # Find all numbers in the text\n",
    "    numbers = re.findall(r'\\d+', text)\n",
    "    if not numbers:\n",
    "        return None\n",
    "    # Return the first number found\n",
    "    return int(numbers[0])"
   ]
  },
  {
   "cell_type": "code",
   "execution_count": 6,
   "id": "c7dafa8f",
   "metadata": {},
   "outputs": [],
   "source": [
    "def get_vlm_result(base64_image):\n",
    "    # Define the messages for the chat\n",
    "    messages = [\n",
    "        {\n",
    "            \"role\": \"user\",\n",
    "            \"content\": [\n",
    "                {\n",
    "                    \"type\": \"text\",\n",
    "                    \"text\": \"You are a satellite imagery analyst. Look at the satellite image and count the number of distinct buildings in the picture. Do not count landscape features or vehicles, only manmade buildings such as houses or other roofed structures. Please provide only the number in numeric format, not an explanation, sentence, or any other text.\"\n",
    "                },\n",
    "                {\n",
    "                    \"type\": \"image_url\",\n",
    "                    \"image_url\": f\"data:image/jpeg;base64,{base64_image}\"\n",
    "                }\n",
    "            ]\n",
    "        }\n",
    "    ]\n",
    "\n",
    "    # Get the chat response\n",
    "    chat_response = client.chat.complete(\n",
    "        model=model,\n",
    "        messages=messages,\n",
    "        temperature=0.1\n",
    "    )\n",
    "\n",
    "    try:\n",
    "        result = extract_number_from_text(chat_response.choices[0].message.content)\n",
    "    except:\n",
    "        print(\"error\")\n",
    "\n",
    "    return result"
   ]
  },
  {
   "cell_type": "code",
   "execution_count": 7,
   "id": "f4ee3744",
   "metadata": {},
   "outputs": [],
   "source": [
    "run_num = '1'\n",
    "image_dir = \"../data/test/cropped_jpg/\"\n",
    "folder_path = 'mistral_outputs/'+run_num\n",
    "\n",
    "if not os.path.exists(folder_path):\n",
    "    os.makedirs(folder_path)\n",
    "\n",
    "for filename in os.listdir(image_dir):\n",
    "    base64_image = encode_image(image_dir+'/'+filename)\n",
    "    base_name = filename.split('_pre_disaster.jpg')[0]\n",
    "    response = get_vlm_result(base64_image)\n",
    "    if response:\n",
    "        with open(folder_path+'/'+base_name+'.txt', 'w') as file:\n",
    "            file.write(str(response))"
   ]
  }
 ],
 "metadata": {
  "kernelspec": {
   "display_name": "Python 3 (ipykernel)",
   "language": "python",
   "name": "python3"
  },
  "language_info": {
   "codemirror_mode": {
    "name": "ipython",
    "version": 3
   },
   "file_extension": ".py",
   "mimetype": "text/x-python",
   "name": "python",
   "nbconvert_exporter": "python",
   "pygments_lexer": "ipython3",
   "version": "3.10.12"
  }
 },
 "nbformat": 4,
 "nbformat_minor": 5
}
