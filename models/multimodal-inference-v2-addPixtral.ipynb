{
 "cells": [
  {
   "cell_type": "code",
   "execution_count": 1,
   "id": "3dceffbd",
   "metadata": {},
   "outputs": [],
   "source": [
    "import os\n",
    "import base64\n",
    "import requests\n",
    "from mistralai import Mistral"
   ]
  },
  {
   "cell_type": "code",
   "execution_count": 2,
   "id": "4ece6cef",
   "metadata": {},
   "outputs": [],
   "source": [
    "os.environ['MISTRAL_API_KEY'] = 'mtRVuFE35rjpugWTTIHhDkpejfBgfRUZ'"
   ]
  },
  {
   "cell_type": "code",
   "execution_count": 3,
   "id": "a4c24e43",
   "metadata": {},
   "outputs": [],
   "source": [
    "# Retrieve the API key from environment variables\n",
    "api_key = os.environ[\"MISTRAL_API_KEY\"]\n",
    "\n",
    "# Specify model\n",
    "model = \"pixtral-12b-2409\"\n",
    "\n",
    "# Initialize the Mistral client\n",
    "client = Mistral(api_key=api_key)"
   ]
  },
  {
   "cell_type": "code",
   "execution_count": 4,
   "id": "b379dbaa",
   "metadata": {},
   "outputs": [],
   "source": [
    "def encode_image(image_path):\n",
    "    \"\"\"Encode the image to base64.\"\"\"\n",
    "    try:\n",
    "        with open(image_path, \"rb\") as image_file:\n",
    "            return base64.b64encode(image_file.read()).decode('utf-8')\n",
    "    except FileNotFoundError:\n",
    "        print(f\"Error: The file {image_path} was not found.\")\n",
    "        return None\n",
    "    except Exception as e:  # Added general exception handling\n",
    "        print(f\"Error: {e}\")\n",
    "        return None"
   ]
  },
  {
   "cell_type": "code",
   "execution_count": 5,
   "id": "121b7d8d",
   "metadata": {},
   "outputs": [],
   "source": [
    "image_path = \"test_images/test_jpgs/pre/malawi-cyclone_00000009_pre_disaster.jpg\"\n",
    "base64_image = encode_image(image_path)"
   ]
  },
  {
   "cell_type": "code",
   "execution_count": 9,
   "id": "c7dafa8f",
   "metadata": {},
   "outputs": [
    {
     "name": "stdout",
     "output_type": "stream",
     "text": [
      "3\n"
     ]
    }
   ],
   "source": [
    "# Define the messages for the chat\n",
    "messages = [\n",
    "    {\n",
    "        \"role\": \"user\",\n",
    "        \"content\": [\n",
    "            {\n",
    "                \"type\": \"text\",\n",
    "                \"text\": \"How many man-made large buildings are in this satellite image? Do not count cars, sheds, or similarly small buildings. Please provide only the number in numeric format, not an explanation, sentence, or any other text.\"\n",
    "            },\n",
    "            {\n",
    "                \"type\": \"image_url\",\n",
    "                \"image_url\": f\"data:image/jpeg;base64,{base64_image}\"\n",
    "            }\n",
    "        ]\n",
    "    }\n",
    "]\n",
    "\n",
    "# Get the chat response\n",
    "chat_response = client.chat.complete(\n",
    "    model=model,\n",
    "    messages=messages\n",
    ")\n",
    "\n",
    "# Print the content of the response\n",
    "print(chat_response.choices[0].message.content)"
   ]
  },
  {
   "cell_type": "code",
   "execution_count": null,
   "id": "67af8591",
   "metadata": {},
   "outputs": [],
   "source": []
  }
 ],
 "metadata": {
  "kernelspec": {
   "display_name": "Python 3 (ipykernel)",
   "language": "python",
   "name": "python3"
  },
  "language_info": {
   "codemirror_mode": {
    "name": "ipython",
    "version": 3
   },
   "file_extension": ".py",
   "mimetype": "text/x-python",
   "name": "python",
   "nbconvert_exporter": "python",
   "pygments_lexer": "ipython3",
   "version": "3.10.12"
  }
 },
 "nbformat": 4,
 "nbformat_minor": 5
}
