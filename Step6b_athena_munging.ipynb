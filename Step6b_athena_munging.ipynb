{
 "cells": [
  {
   "cell_type": "code",
   "execution_count": 1,
   "id": "0bd973af",
   "metadata": {},
   "outputs": [],
   "source": [
    "import pandas as pd\n",
    "from shapely.geometry import Polygon\n",
    "import shapely.wkt"
   ]
  },
  {
   "cell_type": "code",
   "execution_count": 2,
   "id": "907af4b0",
   "metadata": {},
   "outputs": [],
   "source": [
    "def coordinates_to_wkt(row):\n",
    "    \"\"\"\n",
    "    Convert coordinates in the format (-15.824...; 35.002...) to a WKT polygon string,\n",
    "    swapping the order to (35.002..., -15.824...)\n",
    "    \n",
    "    Args:\n",
    "        row: A dictionary-like object (e.g., pandas Series) containing pre_top_left, \n",
    "             pre_top_right, pre_bottom_right, and pre_bottom_left coordinates\n",
    "    \n",
    "    Returns:\n",
    "        str: A WKT polygon string\n",
    "    \"\"\"\n",
    "    def process_coord_pair(coord_str):\n",
    "        # Remove parentheses and split by semicolon\n",
    "        lat, lon = coord_str.strip('()').split('; ')\n",
    "        # Return longitude first, then latitude\n",
    "        return f\"{lon} {lat}\"\n",
    "    \n",
    "    # Get all coordinates in correct order\n",
    "    coords = [\n",
    "        process_coord_pair(row['pre_top_left']),\n",
    "        process_coord_pair(row['pre_top_right']),\n",
    "        process_coord_pair(row['pre_bottom_right']),\n",
    "        process_coord_pair(row['pre_bottom_left']),\n",
    "        process_coord_pair(row['pre_top_left'])  # Close the polygon by repeating first point\n",
    "    ]\n",
    "    \n",
    "    # Format as WKT polygon string\n",
    "    coords_str = ', '.join(coords)\n",
    "    wkt = f\"POLYGON(({coords_str}))\"\n",
    "    \n",
    "    return wkt"
   ]
  },
  {
   "cell_type": "code",
   "execution_count": 3,
   "id": "549ed31d",
   "metadata": {},
   "outputs": [],
   "source": [
    "test_coords = pd.read_csv('test_image_coords.csv')"
   ]
  },
  {
   "cell_type": "code",
   "execution_count": 4,
   "id": "5a8e9bf9",
   "metadata": {},
   "outputs": [
    {
     "data": {
      "text/html": [
       "<div>\n",
       "<style scoped>\n",
       "    .dataframe tbody tr th:only-of-type {\n",
       "        vertical-align: middle;\n",
       "    }\n",
       "\n",
       "    .dataframe tbody tr th {\n",
       "        vertical-align: top;\n",
       "    }\n",
       "\n",
       "    .dataframe thead th {\n",
       "        text-align: right;\n",
       "    }\n",
       "</style>\n",
       "<table border=\"1\" class=\"dataframe\">\n",
       "  <thead>\n",
       "    <tr style=\"text-align: right;\">\n",
       "      <th></th>\n",
       "      <th>id</th>\n",
       "      <th>pre_top_left</th>\n",
       "      <th>pre_top_right</th>\n",
       "      <th>pre_bottom_right</th>\n",
       "      <th>pre_bottom_left</th>\n",
       "      <th>post_top_left</th>\n",
       "      <th>post_top_right</th>\n",
       "      <th>post_bottom_right</th>\n",
       "      <th>post_bottom_left</th>\n",
       "    </tr>\n",
       "  </thead>\n",
       "  <tbody>\n",
       "    <tr>\n",
       "      <th>0</th>\n",
       "      <td>malawi-cyclone_00000000</td>\n",
       "      <td>(-15.824129507838975; 35.002070173540666)</td>\n",
       "      <td>(-15.824129507838975; 35.003990425148785)</td>\n",
       "      <td>(-15.825037409226914; 35.003990425148785)</td>\n",
       "      <td>(-15.825037409226914; 35.002070173540666)</td>\n",
       "      <td>(-15.824129507838975; 35.002070173540666)</td>\n",
       "      <td>(-15.824129507838975; 35.003990425148785)</td>\n",
       "      <td>(-15.825037409226914; 35.003990425148785)</td>\n",
       "      <td>(-15.825037409226914; 35.002070173540666)</td>\n",
       "    </tr>\n",
       "    <tr>\n",
       "      <th>1</th>\n",
       "      <td>malawi-cyclone_00000001</td>\n",
       "      <td>(-15.82512979754548; 35.00206749389429)</td>\n",
       "      <td>(-15.82512979754548; 35.0039867934907)</td>\n",
       "      <td>(-15.826038510517881; 35.0039867934907)</td>\n",
       "      <td>(-15.826038510517881; 35.00206749389429)</td>\n",
       "      <td>(-15.82512979754548; 35.00206749389429)</td>\n",
       "      <td>(-15.82512979754548; 35.0039867934907)</td>\n",
       "      <td>(-15.826038510517881; 35.0039867934907)</td>\n",
       "      <td>(-15.826038510517881; 35.00206749389429)</td>\n",
       "    </tr>\n",
       "  </tbody>\n",
       "</table>\n",
       "</div>"
      ],
      "text/plain": [
       "                        id                               pre_top_left  \\\n",
       "0  malawi-cyclone_00000000  (-15.824129507838975; 35.002070173540666)   \n",
       "1  malawi-cyclone_00000001    (-15.82512979754548; 35.00206749389429)   \n",
       "\n",
       "                               pre_top_right  \\\n",
       "0  (-15.824129507838975; 35.003990425148785)   \n",
       "1     (-15.82512979754548; 35.0039867934907)   \n",
       "\n",
       "                            pre_bottom_right  \\\n",
       "0  (-15.825037409226914; 35.003990425148785)   \n",
       "1    (-15.826038510517881; 35.0039867934907)   \n",
       "\n",
       "                             pre_bottom_left  \\\n",
       "0  (-15.825037409226914; 35.002070173540666)   \n",
       "1   (-15.826038510517881; 35.00206749389429)   \n",
       "\n",
       "                               post_top_left  \\\n",
       "0  (-15.824129507838975; 35.002070173540666)   \n",
       "1    (-15.82512979754548; 35.00206749389429)   \n",
       "\n",
       "                              post_top_right  \\\n",
       "0  (-15.824129507838975; 35.003990425148785)   \n",
       "1     (-15.82512979754548; 35.0039867934907)   \n",
       "\n",
       "                           post_bottom_right  \\\n",
       "0  (-15.825037409226914; 35.003990425148785)   \n",
       "1    (-15.826038510517881; 35.0039867934907)   \n",
       "\n",
       "                            post_bottom_left  \n",
       "0  (-15.825037409226914; 35.002070173540666)  \n",
       "1   (-15.826038510517881; 35.00206749389429)  "
      ]
     },
     "execution_count": 4,
     "metadata": {},
     "output_type": "execute_result"
    }
   ],
   "source": [
    "test_coords.head(2)"
   ]
  },
  {
   "cell_type": "code",
   "execution_count": 5,
   "id": "d951ef5c",
   "metadata": {},
   "outputs": [],
   "source": [
    "athena_full = pd.read_csv('athena-data/cafa8613-2759-4788-920c-2528e7ee3bb3.csv')"
   ]
  },
  {
   "cell_type": "code",
   "execution_count": 6,
   "id": "8d3b9376",
   "metadata": {},
   "outputs": [
    {
     "data": {
      "text/html": [
       "<div>\n",
       "<style scoped>\n",
       "    .dataframe tbody tr th:only-of-type {\n",
       "        vertical-align: middle;\n",
       "    }\n",
       "\n",
       "    .dataframe tbody tr th {\n",
       "        vertical-align: top;\n",
       "    }\n",
       "\n",
       "    .dataframe thead th {\n",
       "        text-align: right;\n",
       "    }\n",
       "</style>\n",
       "<table border=\"1\" class=\"dataframe\">\n",
       "  <thead>\n",
       "    <tr style=\"text-align: right;\">\n",
       "      <th></th>\n",
       "      <th>geometry_id</th>\n",
       "      <th>class</th>\n",
       "      <th>subclass</th>\n",
       "      <th>name</th>\n",
       "      <th>area</th>\n",
       "      <th>wkt</th>\n",
       "    </tr>\n",
       "  </thead>\n",
       "  <tbody>\n",
       "    <tr>\n",
       "      <th>0</th>\n",
       "      <td>n12065135579@1</td>\n",
       "      <td>settlement</td>\n",
       "      <td>village</td>\n",
       "      <td>Matope 1</td>\n",
       "      <td>NaN</td>\n",
       "      <td>POINT (35.0469238 -15.7761741)</td>\n",
       "    </tr>\n",
       "    <tr>\n",
       "      <th>1</th>\n",
       "      <td>n12064985032@1</td>\n",
       "      <td>settlement</td>\n",
       "      <td>village</td>\n",
       "      <td>Chilobwe Naotcha</td>\n",
       "      <td>NaN</td>\n",
       "      <td>POINT (35.0054562 -15.8387263)</td>\n",
       "    </tr>\n",
       "    <tr>\n",
       "      <th>2</th>\n",
       "      <td>n12064666378@1</td>\n",
       "      <td>settlement</td>\n",
       "      <td>village</td>\n",
       "      <td>Manja B</td>\n",
       "      <td>NaN</td>\n",
       "      <td>POINT (35.029234 -15.8207067)</td>\n",
       "    </tr>\n",
       "  </tbody>\n",
       "</table>\n",
       "</div>"
      ],
      "text/plain": [
       "      geometry_id       class subclass              name  area  \\\n",
       "0  n12065135579@1  settlement  village          Matope 1   NaN   \n",
       "1  n12064985032@1  settlement  village  Chilobwe Naotcha   NaN   \n",
       "2  n12064666378@1  settlement  village           Manja B   NaN   \n",
       "\n",
       "                              wkt  \n",
       "0  POINT (35.0469238 -15.7761741)  \n",
       "1  POINT (35.0054562 -15.8387263)  \n",
       "2   POINT (35.029234 -15.8207067)  "
      ]
     },
     "execution_count": 6,
     "metadata": {},
     "output_type": "execute_result"
    }
   ],
   "source": [
    "athena_full.head(3)"
   ]
  },
  {
   "cell_type": "code",
   "execution_count": 7,
   "id": "541bbe21",
   "metadata": {},
   "outputs": [
    {
     "data": {
      "text/plain": [
       "geometry_id                                         w457315413@1\n",
       "class                                                    general\n",
       "subclass                                                building\n",
       "name                                                         NaN\n",
       "area                                                       114.5\n",
       "wkt            POLYGON ((35.0467713 -15.8421189, 35.046745 -1...\n",
       "Name: 65, dtype: object"
      ]
     },
     "execution_count": 7,
     "metadata": {},
     "output_type": "execute_result"
    }
   ],
   "source": [
    "athena_full[athena_full['subclass']=='building'].iloc[0]"
   ]
  },
  {
   "cell_type": "code",
   "execution_count": 8,
   "id": "24179499",
   "metadata": {},
   "outputs": [],
   "source": [
    "wkt_polygon = \"\"\"\n",
    "POLYGON((\n",
    "    35.002070173540666 -15.824129507838975,\n",
    "    35.003990425148785 -15.824129507838975,\n",
    "    35.003990425148785 -15.825037409226914,\n",
    "    35.002070173540666 -15.825037409226914,\n",
    "    35.002070173540666 -15.824129507838975\n",
    "))\n",
    "\"\"\""
   ]
  },
  {
   "cell_type": "code",
   "execution_count": 9,
   "id": "14f20d2c",
   "metadata": {},
   "outputs": [
    {
     "name": "stdout",
     "output_type": "stream",
     "text": [
      "True\n",
      "(35.002070173540666, -15.825037409226914, 35.003990425148785, -15.824129507838975)\n"
     ]
    }
   ],
   "source": [
    "poly = shapely.wkt.loads(wkt_polygon)\n",
    "print(poly.is_valid)   # Should be True if it’s a proper polygon\n",
    "print(poly.bounds)     # Shows (minx, miny, maxx, maxy)"
   ]
  },
  {
   "cell_type": "code",
   "execution_count": 10,
   "id": "64abcd58",
   "metadata": {},
   "outputs": [],
   "source": [
    "def process_buildings_in_area(df, area_wkt):\n",
    "    # Convert the area WKT to a shapely polygon\n",
    "    area_polygon = shapely.wkt.loads(area_wkt)\n",
    "    \n",
    "    # Convert building WKT strings to shapely polygons\n",
    "    def parse_building_polygon(wkt_str):\n",
    "        try:\n",
    "            return shapely.wkt.loads(wkt_str)\n",
    "        except Exception as e:\n",
    "            print(f\"Error parsing WKT: {e}\")\n",
    "            return None\n",
    "    \n",
    "    # Create a new column with shapely polygons\n",
    "    df['geometry'] = df['wkt'].apply(parse_building_polygon)\n",
    "    \n",
    "    # Check which buildings intersect with the area\n",
    "    df['in_area'] = df['geometry'].apply(lambda x: x.intersects(area_polygon) if x is not None else False)\n",
    "    \n",
    "    # Filter to only buildings in the area\n",
    "    buildings_in_area = df[df['in_area']].copy()\n",
    "    \n",
    "    # Calculate the intersection area (optional)\n",
    "    buildings_in_area['intersection_area'] = buildings_in_area['geometry'].apply(\n",
    "        lambda x: x.intersection(area_polygon).area if x is not None else 0\n",
    "    )\n",
    "    \n",
    "    return buildings_in_area"
   ]
  },
  {
   "cell_type": "code",
   "execution_count": 11,
   "id": "850c1f97",
   "metadata": {},
   "outputs": [],
   "source": [
    "result = process_buildings_in_area(athena_full, wkt_polygon)"
   ]
  },
  {
   "cell_type": "code",
   "execution_count": 12,
   "id": "51fa37de",
   "metadata": {},
   "outputs": [
    {
     "data": {
      "text/plain": [
       "building       14\n",
       "residential     3\n",
       "Name: subclass, dtype: int64"
      ]
     },
     "execution_count": 12,
     "metadata": {},
     "output_type": "execute_result"
    }
   ],
   "source": [
    "result['subclass'].value_counts()"
   ]
  },
  {
   "cell_type": "code",
   "execution_count": 13,
   "id": "05daf794",
   "metadata": {},
   "outputs": [],
   "source": [
    "wkt_polygon = coordinates_to_wkt(test_coords[test_coords['id']==\"malawi-cyclone_00000165\"].iloc[0])"
   ]
  },
  {
   "cell_type": "code",
   "execution_count": 14,
   "id": "bb59fd65",
   "metadata": {},
   "outputs": [
    {
     "data": {
      "text/plain": [
       "building       19\n",
       "residential     1\n",
       "Name: subclass, dtype: int64"
      ]
     },
     "execution_count": 14,
     "metadata": {},
     "output_type": "execute_result"
    }
   ],
   "source": [
    "result = process_buildings_in_area(athena_full, wkt_polygon)\n",
    "result['subclass'].value_counts()"
   ]
  },
  {
   "cell_type": "code",
   "execution_count": 15,
   "id": "6b68a64f",
   "metadata": {},
   "outputs": [
    {
     "data": {
      "text/plain": [
       "19"
      ]
     },
     "execution_count": 15,
     "metadata": {},
     "output_type": "execute_result"
    }
   ],
   "source": [
    "sum(result['subclass']=='building')"
   ]
  },
  {
   "cell_type": "code",
   "execution_count": 16,
   "id": "2c9c0c36",
   "metadata": {},
   "outputs": [],
   "source": [
    "def count_buildings_in_areas(coords_csv, buildings_csv):\n",
    "    \"\"\"\n",
    "    Count buildings in each area of the athena_full dataframe\n",
    "    \n",
    "    Returns:\n",
    "        DataFrame with columns 'id' and 'building_count'\n",
    "    \"\"\"\n",
    "    results = []\n",
    "    \n",
    "    for idx, row in coords_csv.iterrows():\n",
    "        # Convert coordinates to WKT polygon\n",
    "        area_wkt = coordinates_to_wkt(row)\n",
    "        \n",
    "        # Process buildings for this area\n",
    "        buildings_in_area = process_buildings_in_area(buildings_csv, area_wkt)\n",
    "        \n",
    "        # Count buildings\n",
    "        building_count = sum(buildings_in_area['subclass'] == 'building')\n",
    "        \n",
    "        # Store result\n",
    "        results.append({\n",
    "            'id': row['id'],\n",
    "            'building_count': building_count\n",
    "        })\n",
    "    \n",
    "    # Convert to DataFrame\n",
    "    return pd.DataFrame(results)"
   ]
  },
  {
   "cell_type": "code",
   "execution_count": 17,
   "id": "0f930f0a",
   "metadata": {},
   "outputs": [
    {
     "data": {
      "text/plain": [
       "(348, 9)"
      ]
     },
     "execution_count": 17,
     "metadata": {},
     "output_type": "execute_result"
    }
   ],
   "source": [
    "ids = ['malawi-cyclone_00000009','malawi-cyclone_00000017','malawi-cyclone_00000024',\n",
    "      'malawi-cyclone_00000030','malawi-cyclone_00000039','malawi-cyclone_00000046',\n",
    "      'malawi-cyclone_00000055','malawi-cyclone_00000063','malawi-cyclone_00000072',\n",
    "      'malawi-cyclone_00000078','malawi-cyclone_00000084','malawi-cyclone_00000090',\n",
    "      'malawi-cyclone_00000094','malawi-cyclone_00000101','malawi-cyclone_00000108',\n",
    "      'malawi-cyclone_00000114','malawi-cyclone_00000119','malawi-cyclone_00000124',\n",
    "      'malawi-cyclone_00000132','malawi-cyclone_00000139','malawi-cyclone_00000145',\n",
    "      'malawi-cyclone_00000152','malawi-cyclone_00000158','malawi-cyclone_00000165',\n",
    "      'malawi-cyclone_00000172']\n",
    "#known_coords = test_coords[test_coords['id'].isin(ids)]\n",
    "known_coords = test_coords\n",
    "known_coords.shape"
   ]
  },
  {
   "cell_type": "code",
   "execution_count": 18,
   "id": "cec2d62f",
   "metadata": {},
   "outputs": [
    {
     "data": {
      "text/html": [
       "<div>\n",
       "<style scoped>\n",
       "    .dataframe tbody tr th:only-of-type {\n",
       "        vertical-align: middle;\n",
       "    }\n",
       "\n",
       "    .dataframe tbody tr th {\n",
       "        vertical-align: top;\n",
       "    }\n",
       "\n",
       "    .dataframe thead th {\n",
       "        text-align: right;\n",
       "    }\n",
       "</style>\n",
       "<table border=\"1\" class=\"dataframe\">\n",
       "  <thead>\n",
       "    <tr style=\"text-align: right;\">\n",
       "      <th></th>\n",
       "      <th>id</th>\n",
       "      <th>building_count</th>\n",
       "    </tr>\n",
       "  </thead>\n",
       "  <tbody>\n",
       "    <tr>\n",
       "      <th>0</th>\n",
       "      <td>malawi-cyclone_00000000</td>\n",
       "      <td>14</td>\n",
       "    </tr>\n",
       "    <tr>\n",
       "      <th>1</th>\n",
       "      <td>malawi-cyclone_00000001</td>\n",
       "      <td>22</td>\n",
       "    </tr>\n",
       "    <tr>\n",
       "      <th>2</th>\n",
       "      <td>malawi-cyclone_00000002</td>\n",
       "      <td>9</td>\n",
       "    </tr>\n",
       "    <tr>\n",
       "      <th>3</th>\n",
       "      <td>malawi-cyclone_00000003</td>\n",
       "      <td>11</td>\n",
       "    </tr>\n",
       "    <tr>\n",
       "      <th>4</th>\n",
       "      <td>malawi-cyclone_00000004</td>\n",
       "      <td>15</td>\n",
       "    </tr>\n",
       "    <tr>\n",
       "      <th>...</th>\n",
       "      <td>...</td>\n",
       "      <td>...</td>\n",
       "    </tr>\n",
       "    <tr>\n",
       "      <th>343</th>\n",
       "      <td>malawi-cyclone_00000343</td>\n",
       "      <td>12</td>\n",
       "    </tr>\n",
       "    <tr>\n",
       "      <th>344</th>\n",
       "      <td>malawi-cyclone_00000344</td>\n",
       "      <td>32</td>\n",
       "    </tr>\n",
       "    <tr>\n",
       "      <th>345</th>\n",
       "      <td>malawi-cyclone_00000345</td>\n",
       "      <td>33</td>\n",
       "    </tr>\n",
       "    <tr>\n",
       "      <th>346</th>\n",
       "      <td>malawi-cyclone_00000346</td>\n",
       "      <td>44</td>\n",
       "    </tr>\n",
       "    <tr>\n",
       "      <th>347</th>\n",
       "      <td>malawi-cyclone_00000347</td>\n",
       "      <td>14</td>\n",
       "    </tr>\n",
       "  </tbody>\n",
       "</table>\n",
       "<p>348 rows × 2 columns</p>\n",
       "</div>"
      ],
      "text/plain": [
       "                          id  building_count\n",
       "0    malawi-cyclone_00000000              14\n",
       "1    malawi-cyclone_00000001              22\n",
       "2    malawi-cyclone_00000002               9\n",
       "3    malawi-cyclone_00000003              11\n",
       "4    malawi-cyclone_00000004              15\n",
       "..                       ...             ...\n",
       "343  malawi-cyclone_00000343              12\n",
       "344  malawi-cyclone_00000344              32\n",
       "345  malawi-cyclone_00000345              33\n",
       "346  malawi-cyclone_00000346              44\n",
       "347  malawi-cyclone_00000347              14\n",
       "\n",
       "[348 rows x 2 columns]"
      ]
     },
     "execution_count": 18,
     "metadata": {},
     "output_type": "execute_result"
    }
   ],
   "source": [
    "counts_df = count_buildings_in_areas(known_coords, athena_full)\n",
    "counts_df"
   ]
  },
  {
   "cell_type": "code",
   "execution_count": null,
   "id": "0ae01403",
   "metadata": {},
   "outputs": [],
   "source": [
    "# 009: 28 // b 19, r 4, t 1, c 1\n",
    "# 017: 31 // b 26, r 3, f 2\n",
    "# 024: 28 // b 47, r 1, p 1\n",
    "# 030: 25 // b 20, r 4"
   ]
  },
  {
   "cell_type": "code",
   "execution_count": 19,
   "id": "873a14cb",
   "metadata": {},
   "outputs": [],
   "source": [
    "counts_df.to_csv('athena_buildings.csv',index=False)"
   ]
  },
  {
   "cell_type": "code",
   "execution_count": null,
   "id": "f1a020a0",
   "metadata": {},
   "outputs": [],
   "source": []
  }
 ],
 "metadata": {
  "kernelspec": {
   "display_name": "Python 3 (ipykernel)",
   "language": "python",
   "name": "python3"
  },
  "language_info": {
   "codemirror_mode": {
    "name": "ipython",
    "version": 3
   },
   "file_extension": ".py",
   "mimetype": "text/x-python",
   "name": "python",
   "nbconvert_exporter": "python",
   "pygments_lexer": "ipython3",
   "version": "3.9.12"
  }
 },
 "nbformat": 4,
 "nbformat_minor": 5
}
