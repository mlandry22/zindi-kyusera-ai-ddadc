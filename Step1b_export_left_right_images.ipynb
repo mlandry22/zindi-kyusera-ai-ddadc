{
 "cells": [
  {
   "cell_type": "code",
   "execution_count": 1,
   "id": "e365cc4a",
   "metadata": {},
   "outputs": [],
   "source": [
    "import os, json\n",
    "from PIL import Image, ImageDraw, ImageFont\n",
    "import pandas as pd"
   ]
  },
  {
   "cell_type": "code",
   "execution_count": 2,
   "id": "5924ed66",
   "metadata": {},
   "outputs": [],
   "source": [
    "def load_config(config_file='config.json'):\n",
    "    with open(config_file, 'r') as f:\n",
    "        config = json.load(f)\n",
    "    return config\n",
    "\n",
    "config = load_config()"
   ]
  },
  {
   "cell_type": "code",
   "execution_count": 3,
   "id": "ca8fb64f",
   "metadata": {},
   "outputs": [],
   "source": [
    "def export_split_image(image_path, output_path_base):\n",
    "    output_path1 = output_path_base+'left.png'\n",
    "    output_path2 = output_path_base+'right.png'\n",
    "    img = Image.open(image_path).convert('RGB')\n",
    "    width = img.width\n",
    "    \n",
    "    # Find where black portion starts\n",
    "    pixels = img.load()\n",
    "    black_start = 0\n",
    "    for y in range(img.height):\n",
    "        if all(pixels[x, y] == (0,0,0) for x in range(0, width, 10)):  # Sample every 10th pixel\n",
    "            black_start = y\n",
    "            break\n",
    "    \n",
    "    img1 = img.crop((0, 0, round(width/2), black_start))\n",
    "    img1.save(output_path1)\n",
    "    \n",
    "    img2 = img.crop((round(width/2), 0, width, black_start))\n",
    "    img2.save(output_path2)"
   ]
  },
  {
   "cell_type": "code",
   "execution_count": 4,
   "id": "4bd203ab",
   "metadata": {},
   "outputs": [],
   "source": [
    "predictions_df = pd.read_csv(config['sample_submission_location']+'SampleSubmission.csv')\n",
    "predictions_df = predictions_df[predictions_df['id'].str.contains('X_no_damage')]\n",
    "\n",
    "if not os.path.exists(config['cropped_pairs_location']):\n",
    "    os.makedirs(config['cropped_pairs_location'])\n",
    "\n",
    "for idx, row in predictions_df.iterrows():\n",
    "    id_name = row['id']\n",
    "    test_image = id_name.replace('_X_no_damage', '')\n",
    "    test_image_base = test_image.replace('_post_disaster.tif', '')\n",
    "    image_path = config['test_image_location']+'/'+test_image_base+'_pre_disaster.tif'\n",
    "    output_path_base = config['cropped_pairs_location']+'/'+test_image_base+'_pre_disaster_'\n",
    "    try:\n",
    "        export_split_image(image_path=image_path, output_path_base=output_path_base)\n",
    "    except FileNotFoundError as e:\n",
    "        ## this is ok for an incomplete test file\n",
    "        pass"
   ]
  }
 ],
 "metadata": {
  "kernelspec": {
   "display_name": "Python 3 (ipykernel)",
   "language": "python",
   "name": "python3"
  },
  "language_info": {
   "codemirror_mode": {
    "name": "ipython",
    "version": 3
   },
   "file_extension": ".py",
   "mimetype": "text/x-python",
   "name": "python",
   "nbconvert_exporter": "python",
   "pygments_lexer": "ipython3",
   "version": "3.10.12"
  }
 },
 "nbformat": 4,
 "nbformat_minor": 5
}
