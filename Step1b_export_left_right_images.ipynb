{
 "cells": [
  {
   "cell_type": "code",
   "execution_count": 1,
   "id": "e365cc4a",
   "metadata": {},
   "outputs": [],
   "source": [
    "from PIL import Image, ImageDraw, ImageFont\n",
    "import pandas as pd\n",
    "import os"
   ]
  },
  {
   "cell_type": "code",
   "execution_count": 2,
   "id": "ca8fb64f",
   "metadata": {},
   "outputs": [],
   "source": [
    "def export_split_image(image_path, output_path_base):\n",
    "    output_path1 = output_path_base+'left.png'\n",
    "    output_path2 = output_path_base+'right.png'\n",
    "    img = Image.open(image_path).convert('RGB')\n",
    "    width = img.width\n",
    "    \n",
    "    # Find where black portion starts\n",
    "    pixels = img.load()\n",
    "    black_start = 0\n",
    "    for y in range(img.height):\n",
    "        if all(pixels[x, y] == (0,0,0) for x in range(0, width, 10)):  # Sample every 10th pixel\n",
    "            black_start = y\n",
    "            break\n",
    "    \n",
    "    img1 = img.crop((0, 0, round(width/2), black_start))\n",
    "    img1.save(output_path1)\n",
    "    \n",
    "    img2 = img.crop((round(width/2), 0, width, black_start))\n",
    "    img2.save(output_path2)"
   ]
  },
  {
   "cell_type": "code",
   "execution_count": 20,
   "id": "4bd203ab",
   "metadata": {},
   "outputs": [],
   "source": [
    "predictions_df = pd.read_csv('SampleSubmission.csv')\n",
    "\n",
    "for idx, row in predictions_df.iterrows():\n",
    "    id_name = row['id']\n",
    "    test_image = id_name.replace('_X_no_damage', '')\n",
    "    test_image_base = test_image.replace('_post_disaster.tif', '')\n",
    "    image_path = 'test_images/Images/'+test_image_base+'_pre_disaster.tif'\n",
    "    output_path_base = 'test_images/cropped_pairs/'+test_image_base+'_pre_disaster_'\n",
    "    export_split_image(image_path=image_path, output_path_base=output_path_base)\n"
   ]
  }
 ],
 "metadata": {
  "kernelspec": {
   "display_name": "Python 3 (ipykernel)",
   "language": "python",
   "name": "python3"
  },
  "language_info": {
   "codemirror_mode": {
    "name": "ipython",
    "version": 3
   },
   "file_extension": ".py",
   "mimetype": "text/x-python",
   "name": "python",
   "nbconvert_exporter": "python",
   "pygments_lexer": "ipython3",
   "version": "3.8.10"
  }
 },
 "nbformat": 4,
 "nbformat_minor": 5
}
