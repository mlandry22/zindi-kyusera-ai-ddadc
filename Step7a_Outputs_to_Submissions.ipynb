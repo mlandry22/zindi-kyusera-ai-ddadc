{
 "cells": [
  {
   "cell_type": "code",
   "execution_count": 1,
   "id": "de5a98e5",
   "metadata": {},
   "outputs": [],
   "source": [
    "import os, re, json\n",
    "import pandas as pd\n",
    "import numpy as np"
   ]
  },
  {
   "cell_type": "code",
   "execution_count": 2,
   "id": "79682256",
   "metadata": {},
   "outputs": [],
   "source": [
    "def load_config(config_file='config.json'):\n",
    "    with open(config_file, 'r') as f:\n",
    "        config = json.load(f)\n",
    "    return config"
   ]
  },
  {
   "cell_type": "code",
   "execution_count": 3,
   "id": "c84fb878",
   "metadata": {},
   "outputs": [],
   "source": [
    "config = load_config()\n",
    "models_base_location = config['models_base_location']"
   ]
  },
  {
   "cell_type": "code",
   "execution_count": 4,
   "id": "12e4f32d",
   "metadata": {},
   "outputs": [],
   "source": [
    "df_sample_sub = pd.read_csv(config['sample_submission_location']+'SampleSubmission.csv')"
   ]
  },
  {
   "cell_type": "code",
   "execution_count": 5,
   "id": "b935e31f",
   "metadata": {},
   "outputs": [],
   "source": [
    "def process_blend_outputs(base_path):\n",
    "    # Check if base path exists\n",
    "    if not os.path.exists(base_path):\n",
    "        raise FileNotFoundError(f\"Base path {base_path} does not exist\")\n",
    "    \n",
    "    data = []\n",
    "    \n",
    "    # Get all txt files in the folder\n",
    "    files = [f for f in os.listdir(base_path) if f.endswith('.txt')]\n",
    "    \n",
    "    for file in files:\n",
    "        file_path = os.path.join(base_path, file)\n",
    "        base_id = file[:23]  # First 23 characters for grouping\n",
    "        \n",
    "        # Try to read and parse the number from the file\n",
    "        try:\n",
    "            with open(file_path, 'r') as f:\n",
    "                content = f.read().strip()\n",
    "                value = float(content)\n",
    "        except (ValueError, IOError):\n",
    "            value = np.nan\n",
    "        \n",
    "        data.append({\n",
    "            'full_filename': file[:-4],  # Remove .txt\n",
    "            'id': base_id,\n",
    "            'is_post': 'post_disaster' in file,\n",
    "            'value': value\n",
    "        })\n",
    "    \n",
    "    # Create initial DataFrame with all data\n",
    "    df = pd.DataFrame(data)\n",
    "    \n",
    "    # Create result DataFrame grouped by base_id\n",
    "    result_df = df.groupby('id')['value'].agg(lambda x: int(round(x.mean(), 0)) if not x.isna().all() else 0).reset_index()\n",
    "    result_df['id'] = result_df['id']+'_X_no_damage'\n",
    "    result_df = result_df.rename(columns={'value': 'pred'})\n",
    "    \n",
    "    return result_df"
   ]
  },
  {
   "cell_type": "code",
   "execution_count": 6,
   "id": "c1ea06ef",
   "metadata": {},
   "outputs": [],
   "source": [
    "if not os.path.exists(config['intermediate_submission_location']):\n",
    "    os.makedirs(config['intermediate_submission_location'])"
   ]
  },
  {
   "cell_type": "code",
   "execution_count": 7,
   "id": "bff3e312",
   "metadata": {},
   "outputs": [
    {
     "name": "stdout",
     "output_type": "stream",
     "text": [
      "\n",
      "Averaged DataFrame:\n",
      "                                    id  pred\n",
      "0  malawi-cyclone_00000000_X_no_damage    51\n",
      "1  malawi-cyclone_00000001_X_no_damage    45\n",
      "2  malawi-cyclone_00000002_X_no_damage    48\n",
      "3  malawi-cyclone_00000009_X_no_damage    32\n"
     ]
    }
   ],
   "source": [
    "try:\n",
    "    averaged_df = process_blend_outputs('llama11b_outputs')\n",
    "    print(\"\\nAveraged DataFrame:\")\n",
    "    print(averaged_df)\n",
    "    \n",
    "    merged_df = df_sample_sub.merge(averaged_df[['id', 'pred']], \n",
    "                               on='id', \n",
    "                               how='left')\n",
    "\n",
    "    merged_df['target'] = merged_df.apply(lambda row: row['pred'] \n",
    "                                        if pd.notna(row['pred']) \n",
    "                                        else row['target'], \n",
    "                                        axis=1)\n",
    "    merged_df['target'] = merged_df['target'].astype(int)\n",
    "\n",
    "    submission_name = config['intermediate_submission_location']+'llama11b_submission.csv'\n",
    "    merged_df[['id', 'target']].to_csv(submission_name, index=False)\n",
    "\n",
    "except FileNotFoundError as e:\n",
    "    print(f\"Llama11b error: {e}\")"
   ]
  },
  {
   "cell_type": "code",
   "execution_count": 8,
   "id": "f3e1b9ea",
   "metadata": {},
   "outputs": [
    {
     "name": "stdout",
     "output_type": "stream",
     "text": [
      "\n",
      "Averaged DataFrame:\n",
      "                                    id  pred\n",
      "0  malawi-cyclone_00000000_X_no_damage    20\n",
      "1  malawi-cyclone_00000001_X_no_damage    21\n",
      "2  malawi-cyclone_00000002_X_no_damage    14\n",
      "3  malawi-cyclone_00000009_X_no_damage    12\n"
     ]
    }
   ],
   "source": [
    "try:\n",
    "    averaged_df = process_blend_outputs('mistral_outputs')\n",
    "    print(\"\\nAveraged DataFrame:\")\n",
    "    print(averaged_df)\n",
    "    \n",
    "    merged_df = df_sample_sub.merge(averaged_df[['id', 'pred']], \n",
    "                                   on='id', \n",
    "                                   how='left')\n",
    "\n",
    "    merged_df['target'] = merged_df.apply(lambda row: row['pred'] \n",
    "                                        if pd.notna(row['pred']) \n",
    "                                        else row['target'], \n",
    "                                        axis=1)\n",
    "    merged_df['target'] = merged_df['target'].astype(int)\n",
    "\n",
    "    submission_name = config['intermediate_submission_location']+'mistral_submission.csv'\n",
    "    merged_df[['id', 'target']].to_csv(submission_name, index=False)\n",
    "\n",
    "except FileNotFoundError as e:\n",
    "    print(f\"Mistral error: {e}\")"
   ]
  }
 ],
 "metadata": {
  "kernelspec": {
   "display_name": "Python 3 (ipykernel)",
   "language": "python",
   "name": "python3"
  },
  "language_info": {
   "codemirror_mode": {
    "name": "ipython",
    "version": 3
   },
   "file_extension": ".py",
   "mimetype": "text/x-python",
   "name": "python",
   "nbconvert_exporter": "python",
   "pygments_lexer": "ipython3",
   "version": "3.10.12"
  }
 },
 "nbformat": 4,
 "nbformat_minor": 5
}
