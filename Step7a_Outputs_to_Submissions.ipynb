{
 "cells": [
  {
   "cell_type": "code",
   "execution_count": 1,
   "id": "de5a98e5",
   "metadata": {},
   "outputs": [],
   "source": [
    "import os, re, json\n",
    "import pandas as pd\n",
    "import numpy as np"
   ]
  },
  {
   "cell_type": "code",
   "execution_count": 2,
   "id": "79682256",
   "metadata": {},
   "outputs": [],
   "source": [
    "def load_config(config_file='config.json'):\n",
    "    with open(config_file, 'r') as f:\n",
    "        config = json.load(f)\n",
    "    return config"
   ]
  },
  {
   "cell_type": "code",
   "execution_count": 3,
   "id": "c84fb878",
   "metadata": {},
   "outputs": [],
   "source": [
    "config = load_config()\n",
    "models_base_location = config['models_base_location']"
   ]
  },
  {
   "cell_type": "code",
   "execution_count": 4,
   "id": "12e4f32d",
   "metadata": {},
   "outputs": [],
   "source": [
    "df_sample_sub = pd.read_csv(config['sample_submission_location']+'SampleSubmission.csv')"
   ]
  },
  {
   "cell_type": "code",
   "execution_count": 5,
   "id": "b935e31f",
   "metadata": {},
   "outputs": [],
   "source": [
    "def process_blend_outputs(base_path):\n",
    "    # Check if base path exists\n",
    "    if not os.path.exists(base_path):\n",
    "        raise FileNotFoundError(f\"Base path {base_path} does not exist\")\n",
    "    \n",
    "    data = []\n",
    "    \n",
    "    # Get all txt files in the folder\n",
    "    files = [f for f in os.listdir(base_path) if f.endswith('.txt')]\n",
    "    \n",
    "    for file in files:\n",
    "        file_path = os.path.join(base_path, file)\n",
    "        base_id = file[:23]  # First 23 characters for grouping\n",
    "        \n",
    "        # Try to read and parse the number from the file\n",
    "        try:\n",
    "            with open(file_path, 'r') as f:\n",
    "                content = f.read().strip()\n",
    "                value = float(content)\n",
    "        except (ValueError, IOError):\n",
    "            value = np.nan\n",
    "        \n",
    "        data.append({\n",
    "            'full_filename': file[:-4],  # Remove .txt\n",
    "            'id': base_id,\n",
    "            'is_post': 'post_disaster' in file,\n",
    "            'value': value\n",
    "        })\n",
    "    \n",
    "    # Create initial DataFrame with all data\n",
    "    df = pd.DataFrame(data)\n",
    "    \n",
    "    # Create result DataFrame grouped by base_id\n",
    "    result_df = df.groupby('id')['value'].agg(lambda x: int(round(x.mean(), 0)) if not x.isna().all() else 0).reset_index()\n",
    "    result_df['id'] = result_df['id']+'_X_no_damage'\n",
    "    result_df = result_df.rename(columns={'value': 'pred'})\n",
    "    \n",
    "    return result_df"
   ]
  },
  {
   "cell_type": "code",
   "execution_count": 6,
   "id": "c1ea06ef",
   "metadata": {},
   "outputs": [],
   "source": [
    "if not os.path.exists(config['intermediate_submission_location']):\n",
    "    os.makedirs(config['intermediate_submission_location'])"
   ]
  },
  {
   "cell_type": "code",
   "execution_count": 7,
   "id": "bff3e312",
   "metadata": {},
   "outputs": [
    {
     "name": "stdout",
     "output_type": "stream",
     "text": [
      "\n",
      "Averaged DataFrame:\n",
      "                                    id  pred\n",
      "0  malawi-cyclone_00000000_X_no_damage    51\n",
      "1  malawi-cyclone_00000001_X_no_damage    45\n",
      "2  malawi-cyclone_00000002_X_no_damage    48\n",
      "3  malawi-cyclone_00000009_X_no_damage    32\n"
     ]
    }
   ],
   "source": [
    "try:\n",
    "    averaged_df = process_blend_outputs('llama11b_outputs')\n",
    "    print(\"\\nAveraged DataFrame:\")\n",
    "    print(averaged_df)\n",
    "    \n",
    "    merged_df = df_sample_sub.merge(averaged_df[['id', 'pred']], \n",
    "                               on='id', \n",
    "                               how='left')\n",
    "\n",
    "    merged_df['target'] = merged_df.apply(lambda row: row['pred'] \n",
    "                                        if pd.notna(row['pred']) \n",
    "                                        else row['target'], \n",
    "                                        axis=1)\n",
    "    merged_df['target'] = merged_df['target'].astype(int)\n",
    "\n",
    "    submission_name = config['intermediate_submission_location']+'llama11b_submission.csv'\n",
    "    merged_df[['id', 'target']].to_csv(submission_name, index=False)\n",
    "\n",
    "except FileNotFoundError as e:\n",
    "    print(f\"Llama11b error: {e}\")"
   ]
  },
  {
   "cell_type": "code",
   "execution_count": 8,
   "id": "f3e1b9ea",
   "metadata": {},
   "outputs": [
    {
     "name": "stdout",
     "output_type": "stream",
     "text": [
      "\n",
      "Averaged DataFrame:\n",
      "                                    id  pred\n",
      "0  malawi-cyclone_00000000_X_no_damage    20\n",
      "1  malawi-cyclone_00000001_X_no_damage    15\n",
      "2  malawi-cyclone_00000002_X_no_damage    14\n",
      "3  malawi-cyclone_00000009_X_no_damage    15\n"
     ]
    }
   ],
   "source": [
    "try:\n",
    "    averaged_df = process_blend_outputs('qwen72_outputs')\n",
    "    print(\"\\nAveraged DataFrame:\")\n",
    "    print(averaged_df)\n",
    "    \n",
    "    merged_df = df_sample_sub.merge(averaged_df[['id', 'pred']], \n",
    "                                   on='id', \n",
    "                                   how='left')\n",
    "\n",
    "    merged_df['target'] = merged_df.apply(lambda row: row['pred'] \n",
    "                                        if pd.notna(row['pred']) \n",
    "                                        else row['target'], \n",
    "                                        axis=1)\n",
    "    merged_df['target'] = merged_df['target'].astype(int)\n",
    "\n",
    "    submission_name = config['intermediate_submission_location']+'qwen72_submission.csv'\n",
    "    merged_df[['id', 'target']].to_csv(submission_name, index=False)\n",
    "\n",
    "except FileNotFoundError as e:\n",
    "    print(f\"Qwen72 error: {e}\")"
   ]
  },
  {
   "cell_type": "code",
   "execution_count": 9,
   "id": "2392328f",
   "metadata": {},
   "outputs": [
    {
     "name": "stdout",
     "output_type": "stream",
     "text": [
      "\n",
      "Averaged DataFrame:\n",
      "                                    id  pred\n",
      "0  malawi-cyclone_00000000_X_no_damage    12\n",
      "1  malawi-cyclone_00000001_X_no_damage     8\n",
      "2  malawi-cyclone_00000002_X_no_damage     8\n",
      "3  malawi-cyclone_00000009_X_no_damage     8\n"
     ]
    }
   ],
   "source": [
    "try:\n",
    "    averaged_df = process_blend_outputs('pixtral_outputs')\n",
    "    print(\"\\nAveraged DataFrame:\")\n",
    "    print(averaged_df)\n",
    "    \n",
    "    merged_df = df_sample_sub.merge(averaged_df[['id', 'pred']], \n",
    "                                   on='id', \n",
    "                                   how='left')\n",
    "\n",
    "    merged_df['target'] = merged_df.apply(lambda row: row['pred'] \n",
    "                                        if pd.notna(row['pred']) \n",
    "                                        else row['target'], \n",
    "                                        axis=1)\n",
    "    ## doubled the average rather than adjust function to sum for this model; this is adding left/right\n",
    "    merged_df['target'] = 2*merged_df['target'].astype(int) \n",
    "\n",
    "    submission_name = config['intermediate_submission_location']+'pixtral_submission.csv'\n",
    "    merged_df[['id', 'target']].to_csv(submission_name, index=False)\n",
    "\n",
    "except FileNotFoundError as e:\n",
    "    print(f\"Pixtral error: {e}\")"
   ]
  },
  {
   "cell_type": "code",
   "execution_count": 26,
   "id": "2afa7f02",
   "metadata": {},
   "outputs": [
    {
     "name": "stdout",
     "output_type": "stream",
     "text": [
      "                                        max_detections  diff_detections\n",
      "0  malawi-cyclone_00000000_X_no_damage              21                2\n",
      "1  malawi-cyclone_00000001_X_no_damage              26                1\n",
      "2  malawi-cyclone_00000002_X_no_damage              13                2\n",
      "3  malawi-cyclone_00000009_X_no_damage              23                2\n"
     ]
    }
   ],
   "source": [
    "rt_detr_dir = 'rt_detr_outputs'\n",
    "results = []\n",
    "\n",
    "for f in [f for f in os.listdir(rt_detr_dir) if f.endswith('.json')]:\n",
    "    try:\n",
    "        with open(os.path.join(rt_detr_dir, f), 'rb') as file:\n",
    "            j = json.load(file)\n",
    "        \n",
    "        annotations = j['annotations']\n",
    "        detections = len(annotations)\n",
    "        \n",
    "        results.append({\n",
    "            'set': 'post' if 'post_disaster' in f else 'pre',\n",
    "            'file': f,\n",
    "            'id': f[:23]+'_X_no_damage',\n",
    "            'detections': detections\n",
    "        })\n",
    "    except Exception as e:\n",
    "        print(f\"Error reading {f}: {str(e)}\")\n",
    "        continue\n",
    "\n",
    "results_df = pd.DataFrame(results)\n",
    "\n",
    "results_df['detections'] = results_df['detections'].astype(int)\n",
    "final_df = results_df.groupby('id').agg({\n",
    "    'detections': [\n",
    "        ('max_detections', 'max'),\n",
    "        ('diff_detections', lambda x: abs(x.max() - x.min()))\n",
    "    ]\n",
    "}).reset_index()\n",
    "final_df.columns = final_df.columns.get_level_values(1)\n",
    "print(final_df.head())\n",
    "final_df.to_csv(config['intermediate_submission_location']+'huggingface_space_rolled.csv', index=False)"
   ]
  }
 ],
 "metadata": {
  "kernelspec": {
   "display_name": "Python 3 (ipykernel)",
   "language": "python",
   "name": "python3"
  },
  "language_info": {
   "codemirror_mode": {
    "name": "ipython",
    "version": 3
   },
   "file_extension": ".py",
   "mimetype": "text/x-python",
   "name": "python",
   "nbconvert_exporter": "python",
   "pygments_lexer": "ipython3",
   "version": "3.10.12"
  }
 },
 "nbformat": 4,
 "nbformat_minor": 5
}
