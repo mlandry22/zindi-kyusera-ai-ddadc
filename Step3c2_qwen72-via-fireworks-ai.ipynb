{
 "cells": [
  {
   "cell_type": "code",
   "execution_count": 1,
   "id": "eb98b3d5",
   "metadata": {},
   "outputs": [],
   "source": [
    "import os, re, json\n",
    "import base64\n",
    "import fireworks.client"
   ]
  },
  {
   "cell_type": "code",
   "execution_count": 2,
   "id": "10ec7f72",
   "metadata": {},
   "outputs": [],
   "source": [
    "def load_config(config_file='config.json'):\n",
    "    with open(config_file, 'r') as f:\n",
    "        config = json.load(f)\n",
    "    return config"
   ]
  },
  {
   "cell_type": "code",
   "execution_count": 3,
   "id": "41bf0dc0",
   "metadata": {},
   "outputs": [],
   "source": [
    "config = load_config()\n",
    "api_key = open(config['fireworks_api_key_file'], \"r\").read().strip(\"\\n\")\n",
    "fireworks.client.api_key = api_key"
   ]
  },
  {
   "cell_type": "code",
   "execution_count": 4,
   "id": "c0c97fbb",
   "metadata": {},
   "outputs": [],
   "source": [
    "def encode_image(image_path):\n",
    "        with open(image_path, \"rb\") as image_file:\n",
    "            return base64.b64encode(image_file.read()).decode('utf-8')"
   ]
  },
  {
   "cell_type": "code",
   "execution_count": 5,
   "id": "ae6515dc",
   "metadata": {},
   "outputs": [],
   "source": [
    "def extract_number_from_text(text):\n",
    "    # Find all numbers in the text\n",
    "    text = text[:500] \n",
    "    numbers = re.findall(r'\\d+', text)\n",
    "    if not numbers:\n",
    "        return None\n",
    "    # Return the first number found\n",
    "    return int(numbers[0])"
   ]
  },
  {
   "cell_type": "code",
   "execution_count": 6,
   "id": "9337c8fd",
   "metadata": {},
   "outputs": [],
   "source": [
    "def get_vlm_result(base64_image, debug=False):\n",
    "    det_prompt = \"You are a satellite imagery analyst. Look at the satellite image and count the number of distinct buildings in the picture. Do not count landscape features or vehicles, only manmade buildings such as houses or other roofed structures. Please provide only the number, not an explanation or any other text.\"\n",
    "    response = fireworks.client.ChatCompletion.create(\n",
    "        model=\"accounts/fireworks/models/qwen2-vl-72b-instruct\",\n",
    "        messages=[\n",
    "            {\n",
    "                \"role\": \"user\",\n",
    "                \"content\": [\n",
    "                    {\"type\": \"text\", \"text\": det_prompt},\n",
    "                    {\n",
    "                        \"type\": \"image_url\",\n",
    "                        \"image_url\": {\n",
    "                            \"url\": f\"data:image/jpeg;base64,{base64_image}\"\n",
    "                        },\n",
    "                    },\n",
    "                ],\n",
    "            }\n",
    "        ],\n",
    "        stream=False,\n",
    "    )\n",
    "    if debug:\n",
    "        print(response.choices[0].message.content)\n",
    "    clean_response = extract_number_from_text(response.choices[0].message.content)\n",
    "    return clean_response"
   ]
  },
  {
   "cell_type": "code",
   "execution_count": 7,
   "id": "95902063",
   "metadata": {},
   "outputs": [],
   "source": [
    "run_num = '1'\n",
    "image_dir = config['cropped_jpg_location']\n",
    "folder_path = 'qwen72_outputs/'+run_num\n",
    "\n",
    "if not os.path.exists(folder_path):\n",
    "    os.makedirs(folder_path)\n",
    "\n",
    "for filename in os.listdir(image_dir):\n",
    "    base64_image = encode_image(image_dir+'/'+filename)\n",
    "    base_name = filename.split('_pre_disaster.jpg')[0]\n",
    "    response = get_vlm_result(base64_image, debug=False)\n",
    "    if response:\n",
    "        with open(folder_path+'/'+base_name+'.txt', 'w') as file:\n",
    "            file.write(str(response))"
   ]
  },
  {
   "cell_type": "code",
   "execution_count": 8,
   "id": "0636894f",
   "metadata": {},
   "outputs": [],
   "source": [
    "run_num = '2'\n",
    "image_dir = config['cropped_jpg_location']\n",
    "folder_path = 'qwen72_outputs/'+run_num\n",
    "\n",
    "if not os.path.exists(folder_path):\n",
    "    os.makedirs(folder_path)\n",
    "\n",
    "for filename in os.listdir(image_dir):\n",
    "    base64_image = encode_image(image_dir+'/'+filename)\n",
    "    base_name = filename.split('_post_disaster.jpg')[0]\n",
    "    response = get_vlm_result(base64_image, debug=False)\n",
    "    if response:\n",
    "        with open(folder_path+'/'+base_name+'.txt', 'w') as file:\n",
    "            file.write(str(response))"
   ]
  }
 ],
 "metadata": {
  "kernelspec": {
   "display_name": "Python 3 (ipykernel)",
   "language": "python",
   "name": "python3"
  },
  "language_info": {
   "codemirror_mode": {
    "name": "ipython",
    "version": 3
   },
   "file_extension": ".py",
   "mimetype": "text/x-python",
   "name": "python",
   "nbconvert_exporter": "python",
   "pygments_lexer": "ipython3",
   "version": "3.10.12"
  }
 },
 "nbformat": 4,
 "nbformat_minor": 5
}
