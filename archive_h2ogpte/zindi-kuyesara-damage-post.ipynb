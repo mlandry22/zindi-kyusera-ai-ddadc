{
 "cells": [
  {
   "cell_type": "code",
   "execution_count": 61,
   "id": "cb154694",
   "metadata": {},
   "outputs": [],
   "source": [
    "import os, re, json\n",
    "from math import floor\n",
    "from datetime import datetime\n",
    "from h2ogpte import H2OGPTE\n",
    "from loguru import logger\n",
    "import docx2txt\n",
    "import pandas as pd"
   ]
  },
  {
   "cell_type": "code",
   "execution_count": 3,
   "id": "20fa0675",
   "metadata": {},
   "outputs": [],
   "source": [
    "def extract_doc(chunks, h2ogpte_url, api_key, prompt_input, llm):\n",
    "    logger.info(\"\")\n",
    "\n",
    "    client = H2OGPTE(address=h2ogpte_url, \n",
    "                 api_key=api_key\n",
    "                 )\n",
    "\n",
    "    # Engineer the Prompt\n",
    "    \n",
    "    t_system_prompt = \"You are a satellite imagery analyst.\"\n",
    "    t_pre_prompt_summary = \"Look at the satellite image and count the number of distinct buildings in the picture. Do not count landscape features, only manmade buildings such as houses or other roofed structures. Respond with only one number.\"\n",
    "    t_prompt_summary = prompt_input\n",
    "    t_llm = llm\n",
    "\n",
    "    extraction = client.summarize_content(\n",
    "            system_prompt=t_system_prompt,\n",
    "            pre_prompt_summary=t_pre_prompt_summary,\n",
    "            text_context_list=chunks,\n",
    "            prompt_summary=t_prompt_summary,\n",
    "            llm=t_llm,\n",
    "        )\n",
    "    extraction = client.process_document()\n",
    "    \n",
    "    return extraction #.content"
   ]
  },
  {
   "cell_type": "code",
   "execution_count": 15,
   "id": "14383ebe",
   "metadata": {},
   "outputs": [],
   "source": [
    "def extract_number_from_text(text):\n",
    "    # Find all numbers in the text\n",
    "    numbers = re.findall(r'\\d+', text)\n",
    "    if not numbers:\n",
    "        return None\n",
    "    # Return the first number found\n",
    "    return int(numbers[0])\n",
    "\n",
    "def process_files(folder_path):\n",
    "    data = []\n",
    "    \n",
    "    # Get all .txt files in the folder\n",
    "    for filename in os.listdir(folder_path):\n",
    "        if filename.endswith('.txt'):\n",
    "            # Get the base name before \"_pre_disaster.pdf.txt\"\n",
    "            base_name = filename.split('_pre_disaster.pdf.txt')[0]\n",
    "            \n",
    "            # Read the file content\n",
    "            file_path = os.path.join(folder_path, filename)\n",
    "            try:\n",
    "                with open(file_path, 'r') as file:\n",
    "                    content = file.read().strip()\n",
    "                    number = extract_number_from_text(content)\n",
    "                    \n",
    "                data.append({\n",
    "                    'filename_base': base_name,\n",
    "                    'extracted_number': number\n",
    "                })\n",
    "            except Exception as e:\n",
    "                print(f\"Error processing {filename}: {str(e)}\")\n",
    "    \n",
    "    # Create DataFrame\n",
    "    df = pd.DataFrame(data)\n",
    "    return df"
   ]
  },
  {
   "cell_type": "code",
   "execution_count": 35,
   "id": "b45ddd8c",
   "metadata": {},
   "outputs": [
    {
     "name": "stdout",
     "output_type": "stream",
     "text": [
      "Warning: Server version 1.6.13 doesn't match client version 1.6.5: unexpected errors may occur.\n",
      "Please install the correct version of H2OGPTE with `pip install h2ogpte==1.6.13`.\n",
      "You can enable strict version checking by passing strict_version_check=True.\n"
     ]
    }
   ],
   "source": [
    "# Login to the Environment\n",
    "#h2ogpte_url = \"https://h2ogpte.internal-genai.dedicated.h2o.ai\"\n",
    "#api_key = open(\"h2ogpte_key.txt\", \"r\").read().strip(\"\\n\")\n",
    "\n",
    "h2ogpte_url = \"https://h2ogpte.dev.h2o.ai\"\n",
    "api_key = open(\"mlandry-personal-api-key-dev2.txt\", \"r\").read().strip(\"\\n\")\n",
    "\n",
    "client = H2OGPTE(address=h2ogpte_url, api_key=api_key)"
   ]
  },
  {
   "cell_type": "code",
   "execution_count": 36,
   "id": "84b185aa",
   "metadata": {},
   "outputs": [],
   "source": [
    "system_prompt = \"You are a satellite imagery analyst.\"\n",
    "pre_prompt_summary = \"Look at the satellite image and count the number of distinct buildings in the picture. Do not count landscape features or vehicles, only manmade buildings such as houses or other roofed structures. Respond with only one number.\"\n",
    "prompt_summary = \"Combine separate answers into one by adding them, if more than one exists.\"\n",
    "image_prompt = \"<response_instructions>You are a satellite imagery analyst. Look at the satellite image and count the number of distinct buildings in the picture. Do not count landscape features or vehicles, only manmade buildings such as houses or other roofed structures.</response_instructions>\"\n",
    "image_final = \"<response_instructions>Combine separate answers into one by adding them, if more than one exists. Respond with only one number.</response_instructions>\""
   ]
  },
  {
   "cell_type": "code",
   "execution_count": 62,
   "id": "9a6e7331",
   "metadata": {},
   "outputs": [],
   "source": [
    "document_info = []\n",
    "collections_to_get = ['z-malawi-200', 'z-malawi-300']\n",
    "\n",
    "for collection in collection_info:\n",
    "    if collection.name in collections_to_get:\n",
    "        collection_id = collection.id\n",
    "        document_info.extend(client.list_documents_in_collection(collection_id, 0, 500))"
   ]
  },
  {
   "cell_type": "code",
   "execution_count": 63,
   "id": "79bee28d",
   "metadata": {},
   "outputs": [],
   "source": [
    "llms = ['Qwen/Qwen2-VL-7B-Instruct','mistralai/Pixtral-12B-2409','meta-llama/Llama-3.2-11B-Vision-Instruct-Turbo'\n",
    "        ,'meta-llama/Llama-3.2-90B-Vision-Instruct-Turbo','Qwen/Qwen2-VL-72B-Instruct'\n",
    "       ,'h2oai/h2ovl-mississippi-2b']\n",
    "llm_shorts = ['Qwen2-VL-7B-Instruct','Pixtral-12B-2409','Llama-3.2-11B-Vision-Instruct-Turbo'\n",
    "              ,'Llama-3.2-90B-Vision-Instruct-Turbo','Qwen2-VL-72B-Instruct'\n",
    "              ,'h2ovl-mississippi-2b']"
   ]
  },
  {
   "cell_type": "code",
   "execution_count": 64,
   "id": "1a74e6aa",
   "metadata": {},
   "outputs": [
    {
     "name": "stdout",
     "output_type": "stream",
     "text": [
      "Qwen/Qwen2-VL-7B-Instruct //// Qwen2-VL-7B-Instruct\n",
      "mistralai/Pixtral-12B-2409 //// Pixtral-12B-2409\n",
      "meta-llama/Llama-3.2-11B-Vision-Instruct-Turbo //// Llama-3.2-11B-Vision-Instruct-Turbo\n",
      "meta-llama/Llama-3.2-90B-Vision-Instruct-Turbo //// Llama-3.2-90B-Vision-Instruct-Turbo\n",
      "Qwen/Qwen2-VL-72B-Instruct //// Qwen2-VL-72B-Instruct\n"
     ]
    }
   ],
   "source": [
    "for i in range(0, 5):\n",
    "    llm = llms[i]\n",
    "    llm_short = llm_shorts[i]\n",
    "    print(llm + \" //// \"+llm_short)"
   ]
  },
  {
   "cell_type": "code",
   "execution_count": 65,
   "id": "65ef03c3",
   "metadata": {},
   "outputs": [
    {
     "name": "stdout",
     "output_type": "stream",
     "text": [
      "Model Qwen2-VL-7B-Instruct: 2024-12-25 12:41:03\n",
      "2024-12-25 12:44:48 - Iteration 37\n",
      "2024-12-25 12:48:36 - Iteration 74\n",
      "2024-12-25 12:52:29 - Iteration 111\n",
      "2024-12-25 12:56:22 - Iteration 148\n",
      "2024-12-25 13:00:13 - Iteration 185\n",
      "2024-12-25 13:04:02 - Iteration 222\n",
      "2024-12-25 13:07:51 - Iteration 259\n",
      "2024-12-25 13:11:43 - Iteration 296\n",
      "Model Pixtral-12B-2409: 2024-12-25 13:11:49\n",
      "2024-12-25 13:16:10 - Iteration 37\n",
      "2024-12-25 13:20:44 - Iteration 74\n",
      "2024-12-25 13:25:13 - Iteration 111\n",
      "2024-12-25 13:29:42 - Iteration 148\n",
      "2024-12-25 13:34:08 - Iteration 185\n",
      "2024-12-25 13:38:35 - Iteration 222\n",
      "2024-12-25 13:43:08 - Iteration 259\n",
      "2024-12-25 13:47:37 - Iteration 296\n",
      "Model Llama-3.2-11B-Vision-Instruct-Turbo: 2024-12-25 13:47:45\n",
      "2024-12-25 13:54:20 - Iteration 37\n",
      "2024-12-25 14:00:59 - Iteration 74\n",
      "2024-12-25 14:07:40 - Iteration 111\n",
      "2024-12-25 14:14:23 - Iteration 148\n",
      "2024-12-25 14:21:00 - Iteration 185\n",
      "2024-12-25 14:27:34 - Iteration 222\n",
      "2024-12-25 14:34:14 - Iteration 259\n",
      "2024-12-25 14:40:49 - Iteration 296\n",
      "Model Llama-3.2-90B-Vision-Instruct-Turbo: 2024-12-25 14:41:00\n",
      "2024-12-25 14:47:37 - Iteration 37\n",
      "2024-12-25 14:54:28 - Iteration 74\n",
      "2024-12-25 15:01:19 - Iteration 111\n",
      "2024-12-25 15:08:08 - Iteration 148\n",
      "2024-12-25 15:14:58 - Iteration 185\n",
      "2024-12-25 15:21:51 - Iteration 222\n",
      "2024-12-25 15:28:40 - Iteration 259\n",
      "2024-12-25 15:35:26 - Iteration 296\n",
      "Model Qwen2-VL-72B-Instruct: 2024-12-25 15:35:37\n",
      "2024-12-25 15:39:08 - Iteration 37\n",
      "2024-12-25 15:42:50 - Iteration 74\n",
      "2024-12-25 15:46:33 - Iteration 111\n",
      "2024-12-25 15:50:14 - Iteration 148\n",
      "2024-12-25 15:53:57 - Iteration 185\n",
      "2024-12-25 15:57:37 - Iteration 222\n",
      "2024-12-25 16:01:19 - Iteration 259\n",
      "2024-12-25 16:04:57 - Iteration 296\n"
     ]
    }
   ],
   "source": [
    "for j in range(0, 5):\n",
    "    llm = llms[j]\n",
    "    llm_short = llm_shorts[j]\n",
    "    print(f\"Model {llm_short}: {datetime.now().strftime('%Y-%m-%d %H:%M:%S')}\")\n",
    "    folder_path = 'malawi-cyclone/' + llm_short\n",
    "    if not os.path.exists(folder_path):\n",
    "        os.makedirs(folder_path)\n",
    "\n",
    "    i = 0\n",
    "    for document in document_info:\n",
    "        i=i+1\n",
    "        if i%floor(len(document_info)/8) == 0:\n",
    "            print(f\"{datetime.now().strftime('%Y-%m-%d %H:%M:%S')} - Iteration {i}\")\n",
    "        doc_id = document.id\n",
    "        doc_name = document.name\n",
    "        response = client.process_document(\n",
    "            document_id=doc_id,\n",
    "            system_prompt=system_prompt,\n",
    "            pre_prompt_summary=pre_prompt_summary,\n",
    "            prompt_summary=prompt_summary,\n",
    "            image_batch_image_prompt=image_prompt,\n",
    "            image_batch_final_prompt=image_final,\n",
    "            llm=llm\n",
    "        )\n",
    "        if response:\n",
    "            with open('malawi-cyclone/'+llm_short+'/'+doc_name+'.txt', 'w') as file:\n",
    "                file.write(response.content)"
   ]
  },
  {
   "cell_type": "code",
   "execution_count": 16,
   "id": "9b3d0176",
   "metadata": {},
   "outputs": [
    {
     "name": "stdout",
     "output_type": "stream",
     "text": [
      "             filename_base  extracted_number\n",
      "0  malawi-cyclone_00000051                35\n",
      "1  malawi-cyclone_00000108               150\n",
      "2  malawi-cyclone_00000222               120\n",
      "3  malawi-cyclone_00000181                15\n",
      "4  malawi-cyclone_00000174                15\n"
     ]
    }
   ],
   "source": [
    "# Use the function\n",
    "folder_path = 'malawi-cyclone/Qwen2-VL-72B-Instruct'\n",
    "result_df = process_files(folder_path)\n",
    "\n",
    "# Display first few rows to verify\n",
    "print(result_df.head())\n",
    "\n",
    "export_df = pd.DataFrame({\n",
    "    'id': result_df['filename_base'] + '_X_no_damage',\n",
    "    'target': result_df['extracted_number']\n",
    "})\n",
    "\n",
    "# Export to CSV\n",
    "export_df.to_csv('malawi-cyclone/sub_qwen_nd.csv', index=False)"
   ]
  },
  {
   "cell_type": "code",
   "execution_count": 18,
   "id": "7f73d936",
   "metadata": {},
   "outputs": [
    {
     "name": "stdout",
     "output_type": "stream",
     "text": [
      "             filename_base  extracted_number\n",
      "0  malawi-cyclone_00000051                15\n",
      "1  malawi-cyclone_00000108                35\n",
      "2  malawi-cyclone_00000222                35\n",
      "3  malawi-cyclone_00000181                15\n",
      "4  malawi-cyclone_00000174                15\n"
     ]
    }
   ],
   "source": [
    "# Use the function\n",
    "folder_path = 'malawi-cyclone/Pixtral-12B-2409/'\n",
    "result_df = process_files(folder_path)\n",
    "\n",
    "# Display first few rows to verify\n",
    "print(result_df.head())\n",
    "\n",
    "export_df = pd.DataFrame({\n",
    "    'id': result_df['filename_base'] + '_X_no_damage',\n",
    "    'target': result_df['extracted_number']\n",
    "})\n",
    "\n",
    "# Export to CSV\n",
    "export_df.to_csv('malawi-cyclone/presub_pixtral_nd.csv', index=False)"
   ]
  },
  {
   "cell_type": "code",
   "execution_count": 19,
   "id": "7815beba",
   "metadata": {},
   "outputs": [
    {
     "name": "stdout",
     "output_type": "stream",
     "text": [
      "             filename_base  extracted_number\n",
      "0  malawi-cyclone_00000051              30.0\n",
      "1  malawi-cyclone_00000108             100.0\n",
      "2  malawi-cyclone_00000222              63.0\n",
      "3  malawi-cyclone_00000181              25.0\n",
      "4  malawi-cyclone_00000174              25.0\n"
     ]
    }
   ],
   "source": [
    "# Use the function\n",
    "folder_path = 'malawi-cyclone/Llama-3.2-11B-Vision-Instruct-Turbo/'\n",
    "result_df = process_files(folder_path)\n",
    "\n",
    "# Display first few rows to verify\n",
    "print(result_df.head())\n",
    "\n",
    "export_df = pd.DataFrame({\n",
    "    'id': result_df['filename_base'] + '_X_no_damage',\n",
    "    'target': result_df['extracted_number']\n",
    "})\n",
    "\n",
    "# Export to CSV\n",
    "export_df.to_csv('malawi-cyclone/presub_llama_nd.csv', index=False)"
   ]
  },
  {
   "cell_type": "code",
   "execution_count": 25,
   "id": "dcfbe1fd",
   "metadata": {},
   "outputs": [
    {
     "name": "stdout",
     "output_type": "stream",
     "text": [
      "             filename_base  extracted_number\n",
      "0  malawi-cyclone_00000051              37.0\n",
      "1  malawi-cyclone_00000108             123.0\n",
      "2  malawi-cyclone_00000222             123.0\n",
      "3  malawi-cyclone_00000181              23.0\n",
      "4  malawi-cyclone_00000174              23.0\n"
     ]
    }
   ],
   "source": [
    "# Use the function\n",
    "folder_path = 'malawi-cyclone/Llama-3.2-90B-Vision-Instruct-Turbo/'\n",
    "result_df = process_files(folder_path)\n",
    "\n",
    "# Display first few rows to verify\n",
    "print(result_df.head())\n",
    "\n",
    "export_df = pd.DataFrame({\n",
    "    'id': result_df['filename_base'] + '_X_no_damage',\n",
    "    'target': result_df['extracted_number']\n",
    "})\n",
    "\n",
    "# Export to CSV\n",
    "export_df.to_csv('malawi-cyclone/presub_llama90_nd.csv', index=False)"
   ]
  },
  {
   "cell_type": "code",
   "execution_count": null,
   "id": "e2cdac5b",
   "metadata": {},
   "outputs": [],
   "source": []
  }
 ],
 "metadata": {
  "kernelspec": {
   "display_name": "Python 3 (ipykernel)",
   "language": "python",
   "name": "python3"
  },
  "language_info": {
   "codemirror_mode": {
    "name": "ipython",
    "version": 3
   },
   "file_extension": ".py",
   "mimetype": "text/x-python",
   "name": "python",
   "nbconvert_exporter": "python",
   "pygments_lexer": "ipython3",
   "version": "3.10.12"
  }
 },
 "nbformat": 4,
 "nbformat_minor": 5
}
